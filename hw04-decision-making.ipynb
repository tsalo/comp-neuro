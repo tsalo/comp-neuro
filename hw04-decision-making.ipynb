{
 "cells": [
  {
   "cell_type": "markdown",
   "metadata": {},
   "source": [
    "Taylor Salo"
   ]
  },
  {
   "cell_type": "code",
   "execution_count": 1,
   "metadata": {
    "collapsed": true
   },
   "outputs": [],
   "source": [
    "%matplotlib inline\n",
    "from __future__ import division\n",
    "import numpy as np\n",
    "import math\n",
    "import pylab as plt\n",
    "import seaborn as sns\n",
    "\n",
    "# Import necessary objects from brian2\n",
    "from brian2 import mV, ms, nsiemens, Mohm, nS, pamp\n",
    "from brian2 import amp, siemens, volt\n",
    "from brian2 import NeuronGroup, TimedArray, Synapses\n",
    "from brian2 import SpikeMonitor\n",
    "from brian2 import start_scope, store, restore, run\n",
    "\n",
    "sns.set_style('darkgrid')\n",
    "sns.set_palette('husl')\n",
    "plt.rcParams['figure.figsize'] = [12, 8]"
   ]
  },
  {
   "cell_type": "code",
   "execution_count": 2,
   "metadata": {
    "collapsed": true
   },
   "outputs": [],
   "source": [
    "dirs = ['left', 'right']\n",
    "\n",
    "# Define equations for the AdEx model (include noise)\n",
    "# and equations for the AMPA and GABA synapse models\n",
    "eqs =  '''\n",
    "du/dt = ( -(u - u_rest) + delta_T*exp((u-vartheta_rh)/delta_T) \\\n",
    "    + R*(I - w - I_AMPA - I_GABA) ) / tau_m + sigma*xi*tau_m**-0.5 : volt\n",
    "dw/dt = (a*(u - u_rest) - w)/tau_w : amp\n",
    "I = input_current(t,i) : amp\n",
    "I_AMPA = g_AMPA*(u - E_AMPA): amp\n",
    "I_GABA = g_GABA*(u - E_GABA): amp\n",
    "dg_AMPA/dt = -g_AMPA / tau_AMPA : siemens\n",
    "dg_GABA/dt = -g_GABA / tau_GABA : siemens\n",
    "'''"
   ]
  },
  {
   "cell_type": "code",
   "execution_count": 3,
   "metadata": {
    "collapsed": true
   },
   "outputs": [],
   "source": [
    "# Excitatory synapses\n",
    "E_AMPA = 0*mV  # equilibrium potential of the channe\n",
    "tau_AMPA = 2*ms  # speed of NT unbinding\n",
    "AMPA_jump_large = 100*nsiemens  # jump in conductivity for strong exc\n",
    "AMPA_jump_small = 80*nsiemens  # jump in conductivity for weak excit\n",
    "\n",
    "# Inhibitory synapses\n",
    "E_GABA = -70*mV  # equilibrium potential of the channel\n",
    "tau_GABA = 6*ms  # speed of NT unbinding\n",
    "GABA_jump = 80*nsiemens  # jump in conductivity for inhibitory synapse"
   ]
  },
  {
   "cell_type": "code",
   "execution_count": 4,
   "metadata": {
    "collapsed": true
   },
   "outputs": [],
   "source": [
    "start_scope()\n",
    "\n",
    "# Create RSN neuron group. Default method is 'euler.'\n",
    "RSN = NeuronGroup(2, eqs, threshold='u>theta_reset',\n",
    "                  reset='u=u_r; w+= b', method='euler')\n",
    "\n",
    "# Define parameters of the RSN AdEx model\n",
    "RSN.namespace['R'] = 200*Mohm  # membrane resistance\n",
    "RSN.namespace['tau_m'] = 24*ms  # membrane time constant\n",
    "RSN.namespace['theta_reset'] = 35*mV  # reset threshold\n",
    "RSN.namespace['u_rest'] = -65*mV  # resting potential\n",
    "RSN.namespace['u_r'] = -55*mV  # reset potential\n",
    "RSN.namespace['vartheta_rh'] = -52*mV  # rheobase threshold\n",
    "RSN.namespace['delta_T'] = 0.8*mV  # sharpness of the action poten\n",
    "RSN.namespace['tau_w'] = 88*ms  # adaptation time constant\n",
    "RSN.namespace['a'] = -0.8*nS  # subthreshold adaptation const\n",
    "RSN.namespace['b'] = 65*pamp  # adaptation jump after a spike\n",
    "RSN.namespace['sigma'] = 0*mV  # amplitude of noise added to t\n",
    "\n",
    "# Set initial potential to u_rest\n",
    "# Use the variable in this model's namespace (see below)\n",
    "RSN.u[:] = -65*mV\n",
    "\n",
    "# Set initial adaptation to zero\n",
    "RSN.w[:] = 0"
   ]
  },
  {
   "cell_type": "code",
   "execution_count": 5,
   "metadata": {
    "collapsed": true
   },
   "outputs": [],
   "source": [
    "# Create MSN neuron group. Default method is 'euler.'\n",
    "MSN = NeuronGroup(2, eqs, threshold='u>theta_reset',\n",
    "                  reset='u=u_r; w+= b', method='euler')\n",
    "\n",
    "# Define parameters of the MSN AdEx model\n",
    "MSN.namespace['R'] = 31.5*Mohm  # membrane resistance\n",
    "MSN.namespace['tau_m'] = 50*ms  # membrane time constant\n",
    "MSN.namespace['theta_reset'] = 40*mV  # reset threshold\n",
    "MSN.namespace['u_rest'] = -80*mV  # resting potential\n",
    "MSN.namespace['u_r'] = -55*mV  # reset potential\n",
    "MSN.namespace['vartheta_rh'] = -55*mV  # rheobase threshold\n",
    "MSN.namespace['delta_T'] = 2*mV  # sharpness of the action poten\n",
    "MSN.namespace['tau_w'] = 100*ms  # adaptation time constant\n",
    "MSN.namespace['a'] = -20*nS  # subthreshold adaptation const\n",
    "MSN.namespace['b'] = 150*pamp  # adaptation jump after a spike\n",
    "MSN.namespace['sigma'] = 0*mV  # amplitude of noise added to t\n",
    "\n",
    "# Set initial potential to u_rest\n",
    "# Use the variable in this model's namespace (see below)\n",
    "MSN.u[:] = -80*mV\n",
    "\n",
    "# Set initial adaptation to zero\n",
    "MSN.w[:] = 0"
   ]
  },
  {
   "cell_type": "code",
   "execution_count": 6,
   "metadata": {
    "collapsed": true
   },
   "outputs": [],
   "source": [
    "# Inputs\n",
    "# RSN Inputs\n",
    "# Each column in this array will be input for a different neuron\n",
    "input_current = np.zeros((2000, 2))\n",
    "\n",
    "# Place an input of 200 pA to the first neuron (with index 0)\n",
    "# Starting at t=101 and ending at t=1000\n",
    "input_current[100:2000, 0] = 400\n",
    "input_current = TimedArray(input_current*pamp, dt=1*ms)\n",
    "RSN.namespace['input_current'] = input_current\n",
    "del input_current\n",
    "\n",
    "# MSN Inputs\n",
    "input_current = np.zeros((2000, 4))\n",
    "input_current = TimedArray(input_current*pamp, dt=1*ms)\n",
    "MSN.namespace['input_current'] = input_current\n",
    "del input_current"
   ]
  },
  {
   "cell_type": "code",
   "execution_count": 7,
   "metadata": {
    "collapsed": true
   },
   "outputs": [],
   "source": [
    "# Synapses\n",
    "# Create strong excitatory synapses\n",
    "E_strong = Synapses(RSN, MSN, on_pre='g_AMPA += AMPA_jump_large')\n",
    "E_strong.connect(i=0, j=0)\n",
    "E_strong.connect(i=1, j=1)\n",
    "\n",
    "# Create weak excitatory synapses\n",
    "E_weak = Synapses(RSN, MSN, on_pre='g_AMPA += AMPA_jump_small')\n",
    "E_weak.connect(i=0, j=1)\n",
    "E_weak.connect(i=1, j=0)\n",
    "\n",
    "# Create inhibitory synapses\n",
    "I = Synapses(MSN, on_pre='g_GABA += GABA_jump')\n",
    "I.connect(i=0, j=1)\n",
    "I.connect(i=1, j=0)"
   ]
  },
  {
   "cell_type": "markdown",
   "metadata": {},
   "source": [
    "# Question 1"
   ]
  },
  {
   "cell_type": "code",
   "execution_count": 8,
   "metadata": {
    "collapsed": false
   },
   "outputs": [
    {
     "name": "stdout",
     "output_type": "stream",
     "text": [
      "Turn left after 470.3 ms.\n"
     ]
    }
   ],
   "source": [
    "# Indicate what to record\n",
    "spikes_RSN = SpikeMonitor(RSN)\n",
    "spikes_MSN = SpikeMonitor(MSN)\n",
    "\n",
    "# Run the simulation for 2000 ms\n",
    "store(name='save')\n",
    "run(2000*ms)\n",
    "\n",
    "RT = 100 + 1000*np.min([spikes_MSN.t[spikes_MSN.i==0][4],\n",
    "                        spikes_MSN.t[spikes_MSN.i==1][4]])\n",
    "choice = np.argmin([spikes_MSN.t[spikes_MSN.i==0][4],\n",
    "                    spikes_MSN.t[spikes_MSN.i==1][4]])\n",
    "print('Turn {0} after {1} ms.'.format(dirs[choice], RT))"
   ]
  },
  {
   "cell_type": "markdown",
   "metadata": {},
   "source": [
    "# Question 2"
   ]
  },
  {
   "cell_type": "code",
   "execution_count": 9,
   "metadata": {
    "collapsed": false
   },
   "outputs": [],
   "source": [
    "def run_trials(sig, g_gaba, rsn_ic):\n",
    "    n_trials = 100\n",
    "    choice = np.zeros((n_trials), dtype=int)\n",
    "    RT = np.zeros((n_trials))\n",
    "\n",
    "    for trial in range(n_trials):\n",
    "        restore(name='save')\n",
    "\n",
    "        MSN.namespace['sigma'] = sig*mV  # amplitude of noise added to t\n",
    "        GABA_jump = g_gaba*nsiemens  # jump in conductivity for inhibitory synapse\n",
    "        RSN.namespace['input_current'] = rsn_ic\n",
    "        \n",
    "        run(2000*ms)\n",
    "\n",
    "        RT[trial] = 100 + 1000*np.min([spikes_MSN.t[spikes_MSN.i==0][4],\n",
    "                                       spikes_MSN.t[spikes_MSN.i==1][4]])\n",
    "        choice[trial] = np.argmin([spikes_MSN.t[spikes_MSN.i==0][4],\n",
    "                                   spikes_MSN.t[spikes_MSN.i==1][4]])\n",
    "    return choice, RT"
   ]
  },
  {
   "cell_type": "code",
   "execution_count": 10,
   "metadata": {
    "collapsed": false
   },
   "outputs": [],
   "source": [
    "# RSN Inputs\n",
    "ic = np.zeros((2000, 2))\n",
    "ic[100:2000, 0] = 400\n",
    "ic = TimedArray(ic*pamp, dt=1*ms)\n",
    "\n",
    "sig = 5\n",
    "g_gaba = 80\n",
    "\n",
    "choice, RT = run_trials(sig, g_gaba, ic)"
   ]
  },
  {
   "cell_type": "markdown",
   "metadata": {},
   "source": [
    "## Part A"
   ]
  },
  {
   "cell_type": "code",
   "execution_count": 11,
   "metadata": {
    "collapsed": false
   },
   "outputs": [
    {
     "name": "stdout",
     "output_type": "stream",
     "text": [
      "97.0% of trials were correct.\n"
     ]
    }
   ],
   "source": [
    "prop_corr = np.mean(choice==0)\n",
    "corr_RTs = RT[choice==0]\n",
    "\n",
    "print('{0}% of trials were correct.'.format(prop_corr*100))"
   ]
  },
  {
   "cell_type": "markdown",
   "metadata": {
    "collapsed": true
   },
   "source": [
    "## Part B"
   ]
  },
  {
   "cell_type": "code",
   "execution_count": 14,
   "metadata": {
    "collapsed": false
   },
   "outputs": [
    {
     "data": {
      "image/png": "[encoded data removed]",
      "text/plain": [
       "<matplotlib.figure.Figure at 0x119720590>"
      ]
     },
     "metadata": {},
     "output_type": "display_data"
    }
   ],
   "source": [
    "plt.hist(corr_RTs, normed=True,\n",
    "         facecolor=sns.color_palette('husl')[0],\n",
    "         edgecolor='black')\n",
    "plt.title('Question {0} Simulation Results'.format(2), fontsize=20)\n",
    "plt.ylabel('Proportion', fontsize=16)\n",
    "plt.xlabel('Reaction Time (ms)', fontsize=16)\n",
    "plt.show()"
   ]
  },
  {
   "cell_type": "code",
   "execution_count": 15,
   "metadata": {
    "collapsed": false
   },
   "outputs": [
    {
     "name": "stdout",
     "output_type": "stream",
     "text": [
      "Reaction times range from 369.0 to 690.7 ms.\n",
      "Most common reaction time is ~500 ms.\n"
     ]
    }
   ],
   "source": [
    "rt_range = np.max(corr_RTs) - np.min(corr_RTs)\n",
    "print('Reaction times range from {0} to {1} ms.'.format(np.min(corr_RTs),\n",
    "                                                        np.max(corr_RTs)))\n",
    "\n",
    "print('Most common reaction time is ~500 ms.')"
   ]
  },
  {
   "cell_type": "markdown",
   "metadata": {},
   "source": [
    "## Part C"
   ]
  },
  {
   "cell_type": "markdown",
   "metadata": {},
   "source": [
    "To increase variability in RT and responses, I could increase the sigma value, which reflects the noise in the simulation."
   ]
  },
  {
   "cell_type": "markdown",
   "metadata": {},
   "source": [
    "# Question 3"
   ]
  },
  {
   "cell_type": "code",
   "execution_count": 16,
   "metadata": {
    "collapsed": false
   },
   "outputs": [
    {
     "name": "stdout",
     "output_type": "stream",
     "text": [
      "96.0% of trials were correct.\n"
     ]
    },
    {
     "data": {
      "image/png": "[encoded data removed]",
      "text/plain": [
       "<matplotlib.figure.Figure at 0x1197c4050>"
      ]
     },
     "metadata": {},
     "output_type": "display_data"
    }
   ],
   "source": [
    "# RSN Inputs\n",
    "ic = np.zeros((2000, 2))\n",
    "ic[100:2000, 0] = 400\n",
    "ic = TimedArray(ic*pamp, dt=1*ms)\n",
    "\n",
    "sig = 5\n",
    "g_gaba = 160\n",
    "\n",
    "choice, RT = run_trials(sig, g_gaba, ic)\n",
    "\n",
    "prop_corr = np.mean(choice==0)\n",
    "corr_RTs = RT[choice==0]\n",
    "\n",
    "print('{0}% of trials were correct.'.format(prop_corr*100))\n",
    "\n",
    "plt.hist(corr_RTs, normed=True,\n",
    "         facecolor=sns.color_palette('husl')[1],\n",
    "         edgecolor='black')\n",
    "plt.title('Question {0} Simulation Results'.format(3), fontsize=20)\n",
    "plt.ylabel('Proportion', fontsize=16)\n",
    "plt.xlabel('Reaction Time (ms)', fontsize=16)\n",
    "plt.show()"
   ]
  },
  {
   "cell_type": "code",
   "execution_count": 20,
   "metadata": {
    "collapsed": false
   },
   "outputs": [
    {
     "name": "stdout",
     "output_type": "stream",
     "text": [
      "Reaction times range from 311.4 to 688.8 ms.\n",
      "Most common reaction time is ~475 ms.\n"
     ]
    }
   ],
   "source": [
    "rt_range = np.max(corr_RTs) - np.min(corr_RTs)\n",
    "print('Reaction times range from {0} to {1} ms.'.format(np.min(corr_RTs),\n",
    "                                                        np.max(corr_RTs)))\n",
    "print('Most common reaction time is ~475 ms.')"
   ]
  },
  {
   "cell_type": "markdown",
   "metadata": {},
   "source": [
    "The proportion of correct responses doesn't change significantly in this simulation. This is because the jump in conductance for the inhibitory synapses does not have a strong effect on accuracy. However, the RT distribution shifted downward (with faster RTs overall), because increased lateral inhibition causes the response to stabilize/occur more quickly."
   ]
  },
  {
   "cell_type": "markdown",
   "metadata": {},
   "source": [
    "# Question 4"
   ]
  },
  {
   "cell_type": "code",
   "execution_count": 21,
   "metadata": {
    "collapsed": false
   },
   "outputs": [
    {
     "name": "stdout",
     "output_type": "stream",
     "text": [
      "63.0% of trials were correct.\n"
     ]
    },
    {
     "data": {
      "image/png": "[encoded data removed]",
      "text/plain": [
       "<matplotlib.figure.Figure at 0x1193d82d0>"
      ]
     },
     "metadata": {},
     "output_type": "display_data"
    }
   ],
   "source": [
    "# RSN Inputs\n",
    "ic = np.zeros((2000, 2))\n",
    "ic[100:2000, 0] = 360\n",
    "ic[100:2000, 1] = 200\n",
    "\n",
    "ic = TimedArray(ic*pamp, dt=1*ms)\n",
    "\n",
    "sig = 5\n",
    "g_gaba = 80\n",
    "\n",
    "choice, RT = run_trials(sig, g_gaba, ic)\n",
    "\n",
    "prop_corr = np.mean(choice==0)\n",
    "corr_RTs = RT[choice==0]\n",
    "\n",
    "print('{0}% of trials were correct.'.format(prop_corr*100))\n",
    "\n",
    "plt.hist(corr_RTs, normed=True,\n",
    "         facecolor=sns.color_palette('husl')[2],\n",
    "         edgecolor='black')\n",
    "plt.title('Question {0} Simulation Results'.format(4), fontsize=20)\n",
    "plt.ylabel('Proportion', fontsize=16)\n",
    "plt.xlabel('Reaction Time (ms)', fontsize=16)\n",
    "plt.show()"
   ]
  },
  {
   "cell_type": "code",
   "execution_count": 24,
   "metadata": {
    "collapsed": false
   },
   "outputs": [
    {
     "name": "stdout",
     "output_type": "stream",
     "text": [
      "Reaction times range from 330.1 to 490.7 ms.\n",
      "Most common reaction time is ~420 ms.\n"
     ]
    }
   ],
   "source": [
    "rt_range = np.max(corr_RTs) - np.min(corr_RTs)\n",
    "print('Reaction times range from {0} to {1} ms.'.format(np.min(corr_RTs),\n",
    "                                                        np.max(corr_RTs)))\n",
    "print('Most common reaction time is ~420 ms.')"
   ]
  },
  {
   "cell_type": "markdown",
   "metadata": {
    "collapsed": true
   },
   "source": [
    "## Part A\n",
    "Compared to Question 2, the distribution of RTs from this simulation is shifted downward. The most common RT shifts from ~500 ms to ~420 ms. Additionally, the proportion of correct responses decreases from 97% to 63%. This is because there is input to both the 'green' and 'red' neurons. If there was no noise, then the 'green' stimulus, which has a stronger input current, would consistently produce a 'left' response. However, because there is noise, the ambiguity of the input current results in lower accuracy and shorter reaction times.\n",
    "\n",
    "## Part B\n",
    "To increase accuracy in this simulation, we would need to allow for slower reaction times (i.e., decreasing speed increases accuracy). To do this, we must increase the spike threshold (S). By shifting it to a larger value, like 10, more consistency in spiking would be necessary to make a decision."
   ]
  }
 ],
 "metadata": {
  "anaconda-cloud": {},
  "kernelspec": {
   "display_name": "Python [Root]",
   "language": "python",
   "name": "Python [Root]"
  },
  "language_info": {
   "codemirror_mode": {
    "name": "ipython",
    "version": 2
   },
   "file_extension": ".py",
   "mimetype": "text/x-python",
   "name": "python",
   "nbconvert_exporter": "python",
   "pygments_lexer": "ipython2",
   "version": "2.7.12"
  }
 },
 "nbformat": 4,
 "nbformat_minor": 0
}
